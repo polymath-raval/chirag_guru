{
 "cells": [
  {
   "cell_type": "markdown",
   "metadata": {},
   "source": [
    "# 2:18 PM\n",
    "https://www.geeksforgeeks.org/find-if-a-string-is-interleaved-of-two-other-strings-dp-33/"
   ]
  },
  {
   "cell_type": "code",
   "execution_count": 29,
   "metadata": {},
   "outputs": [],
   "source": [
    "def check_if_string_interleaved(C, A, B, c = 0, a = 0, b = 0):\n",
    "    if len(C) == c:\n",
    "        return True\n",
    "    print(C[c:], A[a:], B[b:])\n",
    "    if (len(C) - c) != ((len(B) - b) + (len(A) - a)):\n",
    "        return False\n",
    "    if a < len(A) and C[c] == A[a]:\n",
    "        if check_if_string_interleaved(C, A, B, c + 1, a + 1, b) is True:\n",
    "            return True\n",
    "    if b < len(B) and C[c] == B[b]:\n",
    "        if check_if_string_interleaved(C, A, B, c + 1, a, b + 1) is True:\n",
    "            return True\n",
    "    return False"
   ]
  },
  {
   "cell_type": "code",
   "execution_count": 30,
   "metadata": {},
   "outputs": [
    {
     "name": "stdout",
     "output_type": "stream",
     "text": [
      "XXXXZY XXZ XXY\n",
      "XXXZY XZ XXY\n",
      "XXZY Z XXY\n",
      "XZY Z XY\n",
      "ZY Z Y\n",
      "Y  Y\n"
     ]
    },
    {
     "data": {
      "text/plain": [
       "True"
      ]
     },
     "execution_count": 30,
     "metadata": {},
     "output_type": "execute_result"
    }
   ],
   "source": [
    "check_if_string_interleaved(\n",
    "    'XXXXZY',\n",
    "    'XXZ',\n",
    "    'XXY'\n",
    ")"
   ]
  },
  {
   "cell_type": "code",
   "execution_count": 31,
   "metadata": {},
   "outputs": [
    {
     "name": "stdout",
     "output_type": "stream",
     "text": [
      "XXY YX X\n",
      "XY YX \n"
     ]
    },
    {
     "data": {
      "text/plain": [
       "False"
      ]
     },
     "execution_count": 31,
     "metadata": {},
     "output_type": "execute_result"
    }
   ],
   "source": [
    "check_if_string_interleaved(\n",
    "    'XXY',\n",
    "    'YX',\n",
    "    'X'\n",
    ")"
   ]
  },
  {
   "cell_type": "code",
   "execution_count": 32,
   "metadata": {},
   "outputs": [
    {
     "name": "stdout",
     "output_type": "stream",
     "text": [
      "XXY XY X\n",
      "XY Y X\n",
      "Y Y \n"
     ]
    },
    {
     "data": {
      "text/plain": [
       "True"
      ]
     },
     "execution_count": 32,
     "metadata": {},
     "output_type": "execute_result"
    }
   ],
   "source": [
    "check_if_string_interleaved(\n",
    "    'XXY',\n",
    "    'XY',\n",
    "    'X'\n",
    ")"
   ]
  },
  {
   "cell_type": "code",
   "execution_count": null,
   "metadata": {},
   "outputs": [],
   "source": []
  }
 ],
 "metadata": {
  "kernelspec": {
   "display_name": "Python 3",
   "language": "python",
   "name": "python3"
  },
  "language_info": {
   "codemirror_mode": {
    "name": "ipython",
    "version": 3
   },
   "file_extension": ".py",
   "mimetype": "text/x-python",
   "name": "python",
   "nbconvert_exporter": "python",
   "pygments_lexer": "ipython3",
   "version": "3.7.3"
  }
 },
 "nbformat": 4,
 "nbformat_minor": 4
}
