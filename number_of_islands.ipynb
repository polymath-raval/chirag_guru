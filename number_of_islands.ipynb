{
 "cells": [
  {
   "cell_type": "markdown",
   "metadata": {},
   "source": [
    "https://www.geeksforgeeks.org/find-number-of-islands/"
   ]
  },
  {
   "cell_type": "markdown",
   "metadata": {},
   "source": [
    "#### Time taken to code ~ 30 Minutes"
   ]
  },
  {
   "cell_type": "markdown",
   "metadata": {},
   "source": [
    "## Method\n",
    "\n",
    "* Consider the 2d matrix as graph\n",
    "* Traversal rules are that it can move to next cell horizontally, diagonally or vertically\n",
    "* if a cell is unvisited and is having value of 1, number of island is added by 1\n",
    "* do a DFS and mark all the connected cells as visited\n",
    "\n",
    "\n",
    "### Time complexity: O(N * M) - Acutal computation spent on cells with 1\n",
    "### Space complexity: O(N * M) - Maintaining the visited matrix\n",
    "\n",
    "#### Space complexity can be reduced by using a map or dictionary"
   ]
  },
  {
   "cell_type": "code",
   "execution_count": 27,
   "metadata": {},
   "outputs": [],
   "source": [
    "def n_m(_val):\n",
    "    return (len(val), len(val[0]))\n",
    "\n",
    "def visited(_val, _n, _m):\n",
    "    visited = []\n",
    "    for s in range(_n):\n",
    "        visited.append([0] * _m)\n",
    "    return visited\n",
    "\n",
    "def dfs(_val, _visited, _i, _j, _n, _m):\n",
    "    if (_i < 0 or _j < 0 or\n",
    "        _i >= _n or _j >= _m or\n",
    "        _val[_i][_j] == 0 or _visited[_i][_j] == 1):\n",
    "        return    \n",
    "    _visited[_i][_j] = 1\n",
    "    for _k in range(_i - 1, _i + 2):\n",
    "        for _l in range(_j - 1, _j + 2):\n",
    "            dfs(_val, _visited, _k, _l, _n, _m)\n",
    "\n",
    "def count_number_of_islands(_val):\n",
    "    _count = 0\n",
    "    (_n, _m) = n_m(_val)\n",
    "    _visited = visited(_val, _n, _m)\n",
    "    \n",
    "    for _i in range(_n):\n",
    "        for _j in range(_m):\n",
    "            if _val[_i][_j] == 1 and _visited[_i][_j] ==0:\n",
    "                _count = _count + 1\n",
    "                dfs(_val, _visited, _i, _j, _n, _m)\n",
    "    return _count"
   ]
  },
  {
   "cell_type": "code",
   "execution_count": 29,
   "metadata": {},
   "outputs": [
    {
     "data": {
      "text/plain": [
       "5"
      ]
     },
     "execution_count": 29,
     "metadata": {},
     "output_type": "execute_result"
    }
   ],
   "source": [
    "val = [[1, 1, 0, 0, 0],\n",
    "       [0, 1, 0, 0, 1],\n",
    "       [1, 0, 0, 1, 1],\n",
    "       [0, 0, 0, 0, 0],\n",
    "       [1, 0, 1, 0, 1]]\n",
    "\n",
    "count_number_of_islands(val)"
   ]
  },
  {
   "cell_type": "code",
   "execution_count": 30,
   "metadata": {},
   "outputs": [
    {
     "data": {
      "text/plain": [
       "5"
      ]
     },
     "execution_count": 30,
     "metadata": {},
     "output_type": "execute_result"
    }
   ],
   "source": [
    "val = [[1, 1, 0, 0, 1],\n",
    "       [0, 1, 0, 0, 1],\n",
    "       [1, 0, 0, 1, 1],\n",
    "       [0, 0, 0, 0, 0],\n",
    "       [1, 0, 1, 0, 1]]\n",
    "\n",
    "count_number_of_islands(val)"
   ]
  },
  {
   "cell_type": "code",
   "execution_count": 31,
   "metadata": {},
   "outputs": [
    {
     "data": {
      "text/plain": [
       "0"
      ]
     },
     "execution_count": 31,
     "metadata": {},
     "output_type": "execute_result"
    }
   ],
   "source": [
    "val = [[]]\n",
    "\n",
    "count_number_of_islands(val)"
   ]
  },
  {
   "cell_type": "code",
   "execution_count": 32,
   "metadata": {},
   "outputs": [
    {
     "data": {
      "text/plain": [
       "6"
      ]
     },
     "execution_count": 32,
     "metadata": {},
     "output_type": "execute_result"
    }
   ],
   "source": [
    "val = [[1, 0, 0, 0, 1],\n",
    "       [0, 0, 0, 0, 1],\n",
    "       [1, 0, 0, 1, 1],\n",
    "       [0, 0, 0, 0, 0],\n",
    "       [1, 0, 1, 0, 1]]\n",
    "\n",
    "count_number_of_islands(val)"
   ]
  },
  {
   "cell_type": "code",
   "execution_count": null,
   "metadata": {},
   "outputs": [],
   "source": []
  }
 ],
 "metadata": {
  "kernelspec": {
   "display_name": "Python 3",
   "language": "python",
   "name": "python3"
  },
  "language_info": {
   "codemirror_mode": {
    "name": "ipython",
    "version": 3
   },
   "file_extension": ".py",
   "mimetype": "text/x-python",
   "name": "python",
   "nbconvert_exporter": "python",
   "pygments_lexer": "ipython3",
   "version": "3.7.3"
  }
 },
 "nbformat": 4,
 "nbformat_minor": 4
}
